{
 "cells": [
  {
   "cell_type": "markdown",
   "metadata": {},
   "source": [
    "# Specific Task - 2\n",
    "## description\n",
    "Classify images into with and without strong lenses."
   ]
  },
  {
   "cell_type": "markdown",
   "metadata": {
    "id": "h6bLn2khOF01"
   },
   "source": [
    "## Introduction\n",
    "\n",
    "This Project implements the [Vision Transformer (ViT)](https://arxiv.org/abs/2010.11929)\n",
    "model by Alexey Dosovitskiy et al. for image classification,\n",
    "and demonstrates it on Strong lense images dataset.\n",
    "The ViT model applies the Transformer architecture with self-attention to sequences of\n",
    "image patches, without using convolution layers.\n"
   ]
  },
  {
   "cell_type": "markdown",
   "metadata": {
    "id": "Whabz26VOF03"
   },
   "source": [
    "## Setup"
   ]
  },
  {
   "cell_type": "code",
   "execution_count": 1,
   "metadata": {},
   "outputs": [
    {
     "name": "stdout",
     "output_type": "stream",
     "text": [
      "Requirement already satisfied: tensorflow-addons in /home/studio-lab-user/.conda/envs/default/lib/python3.9/site-packages (0.19.0)\n",
      "Requirement already satisfied: typeguard>=2.7 in /home/studio-lab-user/.conda/envs/default/lib/python3.9/site-packages (from tensorflow-addons) (3.0.2)\n",
      "Requirement already satisfied: packaging in /home/studio-lab-user/.conda/envs/default/lib/python3.9/site-packages (from tensorflow-addons) (21.3)\n",
      "Requirement already satisfied: importlib-metadata>=3.6 in /home/studio-lab-user/.conda/envs/default/lib/python3.9/site-packages (from typeguard>=2.7->tensorflow-addons) (5.0.0)\n",
      "Requirement already satisfied: typing-extensions>=4.4.0 in /home/studio-lab-user/.conda/envs/default/lib/python3.9/site-packages (from typeguard>=2.7->tensorflow-addons) (4.4.0)\n",
      "Requirement already satisfied: zipp>=0.5 in /home/studio-lab-user/.conda/envs/default/lib/python3.9/site-packages (from importlib-metadata>=3.6->typeguard>=2.7->tensorflow-addons) (3.10.0)\n",
      "Requirement already satisfied: pyparsing!=3.0.5,>=2.0.2 in /home/studio-lab-user/.conda/envs/default/lib/python3.9/site-packages (from packaging->tensorflow-addons) (3.0.9)\n"
     ]
    }
   ],
   "source": [
    "!pip install -U tensorflow-addons"
   ]
  },
  {
   "cell_type": "code",
   "execution_count": 2,
   "metadata": {
    "id": "YwdPyVnYOF03"
   },
   "outputs": [
    {
     "name": "stderr",
     "output_type": "stream",
     "text": [
      "2023-03-27 16:11:06.872259: I tensorflow/tsl/cuda/cudart_stub.cc:28] Could not find cuda drivers on your machine, GPU will not be used.\n",
      "2023-03-27 16:11:06.997432: I tensorflow/tsl/cuda/cudart_stub.cc:28] Could not find cuda drivers on your machine, GPU will not be used.\n",
      "2023-03-27 16:11:06.998847: I tensorflow/core/platform/cpu_feature_guard.cc:182] This TensorFlow binary is optimized to use available CPU instructions in performance-critical operations.\n",
      "To enable the following instructions: AVX2 AVX512F FMA, in other operations, rebuild TensorFlow with the appropriate compiler flags.\n",
      "2023-03-27 16:11:10.554487: W tensorflow/compiler/tf2tensorrt/utils/py_utils.cc:38] TF-TRT Warning: Could not find TensorRT\n",
      "/home/studio-lab-user/.conda/envs/default/lib/python3.9/site-packages/tensorflow_addons/utils/ensure_tf_install.py:53: UserWarning: Tensorflow Addons supports using Python ops for all Tensorflow versions above or equal to 2.9.0 and strictly below 2.12.0 (nightly versions are not supported). \n",
      " The versions of TensorFlow you are currently using is 2.12.0 and is not supported. \n",
      "Some things might work, some things might not.\n",
      "If you were to encounter a bug, do not file an issue.\n",
      "If you want to make sure you're using a tested and supported configuration, either change the TensorFlow version or the TensorFlow Addons's version. \n",
      "You can find the compatibility matrix in TensorFlow Addon's readme:\n",
      "https://github.com/tensorflow/addons\n",
      "  warnings.warn(\n"
     ]
    }
   ],
   "source": [
    "import numpy as np\n",
    "import pandas as pd\n",
    "import tensorflow as tf\n",
    "from tensorflow import keras\n",
    "from tensorflow.keras import layers\n",
    "import tensorflow_addons as tfa\n",
    "import os\n",
    "from astropy.io import fits\n",
    "from astropy.wcs import WCS"
   ]
  },
  {
   "cell_type": "markdown",
   "metadata": {
    "id": "acNtMOtdOF05"
   },
   "source": [
    "## Prepare the data"
   ]
  },
  {
   "cell_type": "code",
   "execution_count": 3,
   "metadata": {
    "id": "4beWWsAjOF06"
   },
   "outputs": [
    {
     "name": "stdout",
     "output_type": "stream",
     "text": [
      "10531\n",
      "17380\n",
      "x_train shape: (5000, 101, 101, 1) - y_train shape: (5000,)\n",
      "x_test shape: (1000, 101, 101, 1) - y_test shape: (1000,)\n"
     ]
    }
   ],
   "source": [
    "num_classes = 1\n",
    "input_shape = (101, 101, 1)\n",
    "\n",
    "\n",
    "files=[]\n",
    "for f in os.listdir('lense_finding/SpaceBasedTraining/files'):\n",
    "    files.append('lense_finding/SpaceBasedTraining/files/'+f)\n",
    "    \n",
    "x_data=[]\n",
    "for file in files:\n",
    "    with fits.open(file) as hdu:\n",
    "        data=hdu[0].data\n",
    "        x_data.append(np.transpose(np.array([data])))\n",
    "x_data=np.array(x_data)\n",
    "\n",
    "\n",
    "y_data=[]\n",
    "data=pd.read_csv('/home/studio-lab-user/ML4S/lense_finding/SpaceBasedTraining/classifications.csv')\n",
    "y_data=data['is_lens']\n",
    "y_data=np.array(y_data)\n",
    "\n",
    "\n",
    "x_train, y_train, x_test, y_test=[], [], [], []\n",
    "for i in range(5000):\n",
    "    indx=np.random.choice(range(15000))\n",
    "    x_train.append(x_data[indx])\n",
    "    y_train.append(y_data[indx])\n",
    "print(indx)\n",
    "    \n",
    "for i in range(1000):\n",
    "    indx=np.random.choice(range(15000, 18000))\n",
    "    x_test.append(x_data[indx])\n",
    "    y_test.append(y_data[indx])\n",
    "print(indx)\n",
    "\n",
    "x_train, y_train, x_test, y_test=np.array(x_train), np.array(y_train), np.array(x_test), np.array(y_test)\n",
    "\n",
    "print(f\"x_train shape: {x_train.shape} - y_train shape: {y_train.shape}\")\n",
    "print(f\"x_test shape: {x_test.shape} - y_test shape: {y_test.shape}\")\n"
   ]
  },
  {
   "cell_type": "markdown",
   "metadata": {
    "id": "ywc2qEI7OF06"
   },
   "source": [
    "## Configure the hyperparameters"
   ]
  },
  {
   "cell_type": "code",
   "execution_count": 4,
   "metadata": {
    "id": "H_VjUNNiOF07"
   },
   "outputs": [],
   "source": [
    "learning_rate = 0.001\n",
    "weight_decay = 0.0001\n",
    "batch_size = 100\n",
    "num_epochs = 10\n",
    "image_size = 72  # We'll resize input images to this size\n",
    "patch_size = 6  # Size of the patches to be extract from the input images\n",
    "num_patches = (image_size // patch_size) ** 2\n",
    "projection_dim = 64\n",
    "num_heads = 4\n",
    "transformer_units = [\n",
    "    projection_dim * 2,\n",
    "    projection_dim,\n",
    "]  # Size of the transformer layers\n",
    "transformer_layers = 8\n",
    "mlp_head_units = [2048, 1024]  # Size of the dense layers of the final classifier\n"
   ]
  },
  {
   "cell_type": "markdown",
   "metadata": {
    "id": "RPLawgHaOF08"
   },
   "source": [
    "## Use data augmentation"
   ]
  },
  {
   "cell_type": "code",
   "execution_count": 5,
   "metadata": {
    "id": "Wb_UUhU7OF08"
   },
   "outputs": [
    {
     "name": "stderr",
     "output_type": "stream",
     "text": [
      "2023-03-27 16:12:47.509681: W tensorflow/tsl/framework/cpu_allocator_impl.cc:83] Allocation of 204020000 exceeds 10% of free system memory.\n"
     ]
    }
   ],
   "source": [
    "data_augmentation = keras.Sequential(\n",
    "    [\n",
    "        layers.Normalization(),\n",
    "        layers.Resizing(image_size, image_size),\n",
    "        layers.RandomFlip(\"horizontal\"),\n",
    "        layers.RandomRotation(factor=0.02),\n",
    "        layers.RandomZoom(\n",
    "            height_factor=0.2, width_factor=0.2\n",
    "        ),\n",
    "    ],\n",
    "    name=\"data_augmentation\",\n",
    ")\n",
    "# Compute the mean and the variance of the training data for normalization.\n",
    "data_augmentation.layers[0].adapt(x_train)"
   ]
  },
  {
   "cell_type": "markdown",
   "metadata": {
    "id": "_EXX_Rt1OF09"
   },
   "source": [
    "## Implement multilayer perceptron (MLP)"
   ]
  },
  {
   "cell_type": "code",
   "execution_count": 6,
   "metadata": {
    "id": "4k6mApA_OF09"
   },
   "outputs": [],
   "source": [
    "\n",
    "def mlp(x, hidden_units, dropout_rate):\n",
    "    for units in hidden_units:\n",
    "        x = layers.Dense(units, activation=tf.nn.gelu)(x)\n",
    "        x = layers.Dropout(dropout_rate)(x)\n",
    "    return x\n"
   ]
  },
  {
   "cell_type": "markdown",
   "metadata": {
    "id": "r9zG-pSKOF09"
   },
   "source": [
    "## Implement patch creation as a layer"
   ]
  },
  {
   "cell_type": "code",
   "execution_count": 7,
   "metadata": {
    "id": "UA9JcVf5OF09"
   },
   "outputs": [],
   "source": [
    "\n",
    "class Patches(layers.Layer):\n",
    "    def __init__(self, patch_size):\n",
    "        super().__init__()\n",
    "        self.patch_size = patch_size\n",
    "\n",
    "    def call(self, images):\n",
    "        batch_size = tf.shape(images)[0]\n",
    "        patches = tf.image.extract_patches(\n",
    "            images=images,\n",
    "            sizes=[1, self.patch_size, self.patch_size, 1],\n",
    "            strides=[1, self.patch_size, self.patch_size, 1],\n",
    "            rates=[1, 1, 1, 1],\n",
    "            padding=\"VALID\",\n",
    "        )\n",
    "        patch_dims = patches.shape[-1]\n",
    "        patches = tf.reshape(patches, [batch_size, -1, patch_dims])\n",
    "        return patches\n"
   ]
  },
  {
   "cell_type": "markdown",
   "metadata": {
    "id": "I64xn-BMOF0-"
   },
   "source": [
    "Let's display patches for a sample image"
   ]
  },
  {
   "cell_type": "code",
   "execution_count": 8,
   "metadata": {
    "id": "Xemb7wj3OF0-"
   },
   "outputs": [
    {
     "name": "stdout",
     "output_type": "stream",
     "text": [
      "Image size: 72 X 72\n",
      "Patch size: 6 X 6\n",
      "Patches per image: 144\n",
      "Elements per patch: 36\n"
     ]
    },
    {
     "data": {
      "image/png": "[encoded data removed]",
      "text/plain": [
       "<Figure size 400x400 with 1 Axes>"
      ]
     },
     "metadata": {},
     "output_type": "display_data"
    },
    {
     "data": {
      "image/png": "[encoded data removed]",
      "text/plain": [
       "<Figure size 400x400 with 144 Axes>"
      ]
     },
     "metadata": {},
     "output_type": "display_data"
    }
   ],
   "source": [
    "import matplotlib.pyplot as plt\n",
    "\n",
    "plt.figure(figsize=(4, 4))\n",
    "image = x_train[np.random.choice(range(x_train.shape[0]))]\n",
    "plt.imshow(image)\n",
    "plt.axis(\"off\")\n",
    "\n",
    "resized_image = tf.image.resize(\n",
    "    tf.convert_to_tensor([image]), size=(image_size, image_size)\n",
    ")\n",
    "patches = Patches(patch_size)(resized_image)\n",
    "print(f\"Image size: {image_size} X {image_size}\")\n",
    "print(f\"Patch size: {patch_size} X {patch_size}\")\n",
    "print(f\"Patches per image: {patches.shape[1]}\")\n",
    "print(f\"Elements per patch: {patches.shape[-1]}\")\n",
    "\n",
    "n = int(np.sqrt(patches.shape[1]))\n",
    "plt.figure(figsize=(4, 4))\n",
    "for i, patch in enumerate(patches[0]):\n",
    "    ax = plt.subplot(n, n, i + 1)\n",
    "    patch_img = tf.reshape(patch, (patch_size, patch_size, 1))\n",
    "    plt.imshow(patch_img.numpy())\n",
    "    plt.axis(\"off\")"
   ]
  },
  {
   "cell_type": "markdown",
   "metadata": {
    "id": "1vXQdDe2OF0_"
   },
   "source": [
    "## Implement the patch encoding layer\n",
    "\n",
    "The `PatchEncoder` layer will linearly transform a patch by projecting it into a\n",
    "vector of size `projection_dim`. In addition, it adds a learnable position\n",
    "embedding to the projected vector."
   ]
  },
  {
   "cell_type": "code",
   "execution_count": 9,
   "metadata": {
    "id": "4OaKXDySOF0_"
   },
   "outputs": [],
   "source": [
    "\n",
    "class PatchEncoder(layers.Layer):\n",
    "    def __init__(self, num_patches, projection_dim):\n",
    "        super().__init__()\n",
    "        self.num_patches = num_patches\n",
    "        self.projection = layers.Dense(units=projection_dim)\n",
    "        self.position_embedding = layers.Embedding(\n",
    "            input_dim=num_patches, output_dim=projection_dim\n",
    "        )\n",
    "\n",
    "    def call(self, patch):\n",
    "        positions = tf.range(start=0, limit=self.num_patches, delta=1)\n",
    "        encoded = self.projection(patch) + self.position_embedding(positions)\n",
    "        return encoded\n"
   ]
  },
  {
   "cell_type": "markdown",
   "metadata": {
    "id": "bCCMofg3OF1A"
   },
   "source": [
    "## Build the ViT model\n",
    "\n"
   ]
  },
  {
   "cell_type": "code",
   "execution_count": 10,
   "metadata": {
    "id": "mNlFeNtgOF1A"
   },
   "outputs": [],
   "source": [
    "\n",
    "def create_vit_classifier():\n",
    "    inputs = layers.Input(shape=input_shape)\n",
    "    # Augment data.\n",
    "    augmented = data_augmentation(inputs)\n",
    "    # Create patches.\n",
    "    patches = Patches(patch_size)(augmented)\n",
    "    # Encode patches.\n",
    "    encoded_patches = PatchEncoder(num_patches, projection_dim)(patches)\n",
    "\n",
    "    # Create multiple layers of the Transformer block.\n",
    "    for _ in range(transformer_layers):\n",
    "        # Layer normalization 1.\n",
    "        x1 = layers.LayerNormalization(epsilon=1e-6)(encoded_patches)\n",
    "        # Create a multi-head attention layer.\n",
    "        attention_output = layers.MultiHeadAttention(\n",
    "            num_heads=num_heads, key_dim=projection_dim, dropout=0.1\n",
    "        )(x1, x1)\n",
    "        # Skip connection 1.\n",
    "        x2 = layers.Add()([attention_output, encoded_patches])\n",
    "        # Layer normalization 2.\n",
    "        x3 = layers.LayerNormalization(epsilon=1e-6)(x2)\n",
    "        # MLP.\n",
    "        x3 = mlp(x3, hidden_units=transformer_units, dropout_rate=0.1)\n",
    "        # Skip connection 2.\n",
    "        encoded_patches = layers.Add()([x3, x2])\n",
    "\n",
    "    # Create a [batch_size, projection_dim] tensor.\n",
    "    representation = layers.LayerNormalization(epsilon=1e-6)(encoded_patches)\n",
    "    representation = layers.Flatten()(representation)\n",
    "    representation = layers.Dropout(0.5)(representation)\n",
    "    # Add MLP.\n",
    "    features = mlp(representation, hidden_units=mlp_head_units, dropout_rate=0.5)\n",
    "    # Classify outputs.\n",
    "    logits = layers.Dense(num_classes)(features)\n",
    "    # Create the Keras model.\n",
    "    model = keras.Model(inputs=inputs, outputs=logits)\n",
    "    return model\n"
   ]
  },
  {
   "cell_type": "markdown",
   "metadata": {
    "id": "DV4QEshNOF1A"
   },
   "source": [
    "## Compile, train, and evaluate the mode"
   ]
  },
  {
   "cell_type": "code",
   "execution_count": 17,
   "metadata": {
    "id": "ZMR7PE7xOF1B"
   },
   "outputs": [
    {
     "name": "stdout",
     "output_type": "stream",
     "text": [
      "Epoch 1/10\n",
      "45/45 [==============================] - 500s 11s/step - loss: 1.9550 - tp: 1971.0000 - fp: 898.0000 - tn: 516.0000 - fn: 1115.0000 - accuracy: 0.5527 - precision: 0.6870 - recall: 0.6387 - auc: 0.5009 - prc: 0.6868 - val_loss: 0.6432 - val_tp: 0.0000e+00 - val_fp: 0.0000e+00 - val_tn: 146.0000 - val_fn: 354.0000 - val_accuracy: 0.2920 - val_precision: 0.0000e+00 - val_recall: 0.0000e+00 - val_auc: 0.5000 - val_prc: 0.7080\n",
      "Epoch 2/10\n",
      "45/45 [==============================] - 472s 10s/step - loss: 0.6717 - tp: 2095.0000 - fp: 991.0000 - tn: 423.0000 - fn: 991.0000 - accuracy: 0.5596 - precision: 0.6789 - recall: 0.6789 - auc: 0.4955 - prc: 0.6866 - val_loss: 0.6390 - val_tp: 0.0000e+00 - val_fp: 0.0000e+00 - val_tn: 146.0000 - val_fn: 354.0000 - val_accuracy: 0.2920 - val_precision: 0.0000e+00 - val_recall: 0.0000e+00 - val_auc: 0.5000 - val_prc: 0.7080\n",
      "Epoch 3/10\n",
      "45/45 [==============================] - 472s 10s/step - loss: 0.6493 - tp: 2170.0000 - fp: 952.0000 - tn: 462.0000 - fn: 916.0000 - accuracy: 0.5849 - precision: 0.6951 - recall: 0.7032 - auc: 0.5143 - prc: 0.6921 - val_loss: 0.6040 - val_tp: 354.0000 - val_fp: 146.0000 - val_tn: 0.0000e+00 - val_fn: 0.0000e+00 - val_accuracy: 0.7080 - val_precision: 0.7080 - val_recall: 1.0000 - val_auc: 0.5000 - val_prc: 0.7080\n",
      "Epoch 4/10\n",
      "45/45 [==============================] - 466s 10s/step - loss: 0.6459 - tp: 2249.0000 - fp: 1020.0000 - tn: 394.0000 - fn: 837.0000 - accuracy: 0.5873 - precision: 0.6880 - recall: 0.7288 - auc: 0.5096 - prc: 0.6928 - val_loss: 0.6639 - val_tp: 0.0000e+00 - val_fp: 0.0000e+00 - val_tn: 146.0000 - val_fn: 354.0000 - val_accuracy: 0.2920 - val_precision: 0.0000e+00 - val_recall: 0.0000e+00 - val_auc: 0.5000 - val_prc: 0.7080\n",
      "Epoch 5/10\n",
      "45/45 [==============================] - 466s 10s/step - loss: 0.6491 - tp: 2263.0000 - fp: 1025.0000 - tn: 389.0000 - fn: 823.0000 - accuracy: 0.5893 - precision: 0.6883 - recall: 0.7333 - auc: 0.4972 - prc: 0.6836 - val_loss: 0.6535 - val_tp: 0.0000e+00 - val_fp: 0.0000e+00 - val_tn: 146.0000 - val_fn: 354.0000 - val_accuracy: 0.2920 - val_precision: 0.0000e+00 - val_recall: 0.0000e+00 - val_auc: 0.5000 - val_prc: 0.7080\n",
      "Epoch 6/10\n",
      "45/45 [==============================] - 468s 10s/step - loss: 0.6451 - tp: 2174.0000 - fp: 1023.0000 - tn: 391.0000 - fn: 912.0000 - accuracy: 0.5700 - precision: 0.6800 - recall: 0.7045 - auc: 0.4890 - prc: 0.6805 - val_loss: 0.6506 - val_tp: 0.0000e+00 - val_fp: 0.0000e+00 - val_tn: 146.0000 - val_fn: 354.0000 - val_accuracy: 0.2920 - val_precision: 0.0000e+00 - val_recall: 0.0000e+00 - val_auc: 0.5000 - val_prc: 0.7080\n",
      "Epoch 7/10\n",
      "45/45 [==============================] - 460s 10s/step - loss: 0.6468 - tp: 2193.0000 - fp: 1043.0000 - tn: 371.0000 - fn: 893.0000 - accuracy: 0.5698 - precision: 0.6777 - recall: 0.7106 - auc: 0.4782 - prc: 0.6698 - val_loss: 0.6161 - val_tp: 354.0000 - val_fp: 146.0000 - val_tn: 0.0000e+00 - val_fn: 0.0000e+00 - val_accuracy: 0.7080 - val_precision: 0.7080 - val_recall: 1.0000 - val_auc: 0.5000 - val_prc: 0.7080\n",
      "Epoch 8/10\n",
      "45/45 [==============================] - 468s 10s/step - loss: 0.6388 - tp: 2359.0000 - fp: 1070.0000 - tn: 344.0000 - fn: 727.0000 - accuracy: 0.6007 - precision: 0.6880 - recall: 0.7644 - auc: 0.5019 - prc: 0.6855 - val_loss: 0.6241 - val_tp: 0.0000e+00 - val_fp: 0.0000e+00 - val_tn: 146.0000 - val_fn: 354.0000 - val_accuracy: 0.2920 - val_precision: 0.0000e+00 - val_recall: 0.0000e+00 - val_auc: 0.5000 - val_prc: 0.7080\n",
      "Epoch 9/10\n",
      "45/45 [==============================] - 456s 10s/step - loss: 0.6341 - tp: 2354.0000 - fp: 1074.0000 - tn: 340.0000 - fn: 732.0000 - accuracy: 0.5987 - precision: 0.6867 - recall: 0.7628 - auc: 0.5100 - prc: 0.6938 - val_loss: 0.6155 - val_tp: 354.0000 - val_fp: 146.0000 - val_tn: 0.0000e+00 - val_fn: 0.0000e+00 - val_accuracy: 0.7080 - val_precision: 0.7080 - val_recall: 1.0000 - val_auc: 0.5000 - val_prc: 0.7080\n",
      "Epoch 10/10\n",
      "45/45 [==============================] - 444s 10s/step - loss: 0.6400 - tp: 2326.0000 - fp: 1104.0000 - tn: 310.0000 - fn: 760.0000 - accuracy: 0.5858 - precision: 0.6781 - recall: 0.7537 - auc: 0.4859 - prc: 0.6779 - val_loss: 0.6078 - val_tp: 354.0000 - val_fp: 146.0000 - val_tn: 0.0000e+00 - val_fn: 0.0000e+00 - val_accuracy: 0.7080 - val_precision: 0.7080 - val_recall: 1.0000 - val_auc: 0.5000 - val_prc: 0.7080\n"
     ]
    },
    {
     "data": {
      "image/png": "[encoded data removed]",
      "text/plain": [
       "<Figure size 640x480 with 1 Axes>"
      ]
     },
     "metadata": {},
     "output_type": "display_data"
    }
   ],
   "source": [
    "METRICS = [\n",
    "      keras.metrics.TruePositives(name='tp'),\n",
    "      keras.metrics.FalsePositives(name='fp'),\n",
    "      keras.metrics.TrueNegatives(name='tn'),\n",
    "      keras.metrics.FalseNegatives(name='fn'), \n",
    "      keras.metrics.BinaryAccuracy(name='accuracy'),\n",
    "      keras.metrics.Precision(name='precision'),\n",
    "      keras.metrics.Recall(name='recall'),\n",
    "      keras.metrics.AUC(name='auc'),\n",
    "      keras.metrics.AUC(name='prc', curve='PR'), # precision-recall curve\n",
    "]\n",
    "\n",
    "def run_experiment(model):\n",
    "    optimizer = tfa.optimizers.AdamW(\n",
    "        learning_rate=learning_rate, weight_decay=weight_decay\n",
    "    )\n",
    "\n",
    "    model.compile(\n",
    "        optimizer=optimizer,\n",
    "        loss=keras.losses.BinaryCrossentropy(from_logits=True),\n",
    "        metrics=METRICS\n",
    "    )\n",
    "\n",
    "    history = model.fit(\n",
    "        x=x_train,\n",
    "        y=y_train,\n",
    "        batch_size=batch_size,\n",
    "        epochs=num_epochs,\n",
    "        validation_split=0.1,\n",
    "    )\n",
    "\n",
    "\n",
    "    return history\n",
    "\n",
    "\n",
    "vit_classifier = create_vit_classifier()\n",
    "history = run_experiment(vit_classifier)\n"
   ]
  },
  {
   "cell_type": "code",
   "execution_count": null,
   "metadata": {},
   "outputs": [],
   "source": [
    "vit_classifier.save_weights('checkpoint/')"
   ]
  },
  {
   "cell_type": "code",
   "execution_count": 25,
   "metadata": {},
   "outputs": [
    {
     "name": "stdout",
     "output_type": "stream",
     "text": [
      "32/32 [==============================] - 40s 1s/step - loss: 0.6050 - tp: 712.0000 - fp: 288.0000 - tn: 0.0000e+00 - fn: 0.0000e+00 - accuracy: 0.7120 - precision: 0.7120 - recall: 1.0000 - auc: 0.5000 - prc: 0.7120\n",
      "Test accuracy: 71.2%\n"
     ]
    }
   ],
   "source": [
    "vit_classifier.load_weights('checkpoint/')\n",
    "results = vit_classifier.evaluate(x_test, y_test)\n",
    "print(f\"Test accuracy: {round(results[6] * 100, 2)}%\")"
   ]
  },
  {
   "cell_type": "code",
   "execution_count": 26,
   "metadata": {},
   "outputs": [
    {
     "name": "stdout",
     "output_type": "stream",
     "text": [
      "32/32 [==============================] - 41s 1s/step\n"
     ]
    },
    {
     "data": {
      "image/png": "[encoded data removed]",
      "text/plain": [
       "<Figure size 640x480 with 1 Axes>"
      ]
     },
     "metadata": {},
     "output_type": "display_data"
    }
   ],
   "source": [
    "from sklearn import metrics\n",
    "predictions= vit_classifier.predict(x_test)\n",
    "fp, tp, _ = metrics.roc_curve(y_test, predictions)\n",
    "plt.plot(100*fp, 100*tp, linewidth=2)\n",
    "ax = plt.gca()\n",
    "ax.set_aspect('equal')"
   ]
  }
 ],
 "metadata": {
  "accelerator": "GPU",
  "colab": {
   "name": "image_classification_with_vision_transformer",
   "provenance": [],
   "toc_visible": true
  },
  "environment": {
   "name": "tf2-gpu.2-4.m61",
   "type": "gcloud",
   "uri": "gcr.io/deeplearning-platform-release/tf2-gpu.2-4:m61"
  },
  "kernelspec": {
   "display_name": "default:Python",
   "language": "python",
   "name": "conda-env-default-py"
  },
  "language_info": {
   "codemirror_mode": {
    "name": "ipython",
    "version": 3
   },
   "file_extension": ".py",
   "mimetype": "text/x-python",
   "name": "python",
   "nbconvert_exporter": "python",
   "pygments_lexer": "ipython3",
   "version": "3.9.13"
  }
 },
 "nbformat": 4,
 "nbformat_minor": 4
}
